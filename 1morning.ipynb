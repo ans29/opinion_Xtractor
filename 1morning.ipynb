{
 "cells": [
  {
   "cell_type": "markdown",
   "metadata": {},
   "source": [
    "# MIING OPINION FEATURES IN CUSTOMER REVIEWS\n",
    "### by Minqing Hu and Bing Liu"
   ]
  },
  {
   "cell_type": "markdown",
   "metadata": {},
   "source": [
    "## Abstract of research"
   ]
  },
  {
   "cell_type": "markdown",
   "metadata": {},
   "source": [
    "#### MOTIVE\n",
    "\n",
    "In order to enhance customer satisfaction and their shopping experiences, online merchants enable their customers to review or to express opinions on the\n",
    "products that they buy.\n",
    "\n",
    "With expansion of e-commerce, online shopping, more and more common users reviewing products, the comments becomes incomprehensible, and looses its meaning. This makes it very hard for a potential customer to read them to help him or her to make a decision on whether to buy the product.\n",
    "\n",
    "In this research, we propose to study the problem of feature-based opinion summarization of customer reviews of  products sold online. The task is performed in two steps:\n",
    "1. Identify the features of the product that customers have expressed opinions on (called opinion features), rank the features according to their frequencies that they appear in the reviews.\n",
    "2. For each feature, we identify how many customer reviews have positive or negative opinions.\n"
   ]
  },
  {
   "cell_type": "markdown",
   "metadata": {},
   "source": [
    "#### OBJECTIVE\n",
    "This project aims to summarize all the customer reviews of a product.\n",
    "Unlike traditional summarization tasks, author aims to provide a specific feature of a product that a customer have opinion on, and also if the opinion is positive or negative.\n",
    "###### In this paper, author is only focusing on mining opinions/ product features that the reviewers have commented."
   ]
  },
  {
   "cell_type": "markdown",
   "metadata": {},
   "source": [
    "#### APPROACH\n",
    "The paper proposes a number of techniques based on data mining and NLP methods to mine opinions/ product features.\n",
    "The system, after crawling through all reviews, creates a \"REVIEW DATABASE\".\n",
    "The paper incorporates 2 techniques for discovering terms:\n",
    "1. Symbolic Approach : relies on SYNTACTIC DESCRIPTION of terms, namely noun phrase.\n",
    "2. Statistical Approach : to find the infrequent features by exploiting the fact that people uses same adjectives to describe different subjects.\n",
    "\n",
    "#### MODEL\n",
    "<img src = \"model.jpg\">\n",
    "\n",
    "##### 1. POS Tagging\n",
    "Since the tasks focus on finding features that appear explicitly as nouns or noun phrases in the reviews. To them from the reviews, part-of-speech tagging is used.\n",
    "Each sentence is saved in Review database along with a pos tag with each word.\n",
    "A Transaction file is then created after preprocessing , which includes deletion of stopwords, stemming and fuzzy matching.\n",
    "##### 2.  Frequent feature generation\n",
    "This step is to find features that people are most interested in. In order to do this, Association rule mining to find all frequent itemsets is used. Considering \"itemset\" as a set of words or a phrase that occurs together."
   ]
  },
  {
   "cell_type": "code",
   "execution_count": null,
   "metadata": {
    "collapsed": true
   },
   "outputs": [],
   "source": [
    "%%html\n",
    "<img src = \" \">"
   ]
  },
  {
   "cell_type": "code",
   "execution_count": 2,
   "metadata": {},
   "outputs": [],
   "source": [
    "import nltk\n",
    "import re"
   ]
  },
  {
   "cell_type": "code",
   "execution_count": null,
   "metadata": {
    "collapsed": true
   },
   "outputs": [],
   "source": []
  },
  {
   "cell_type": "code",
   "execution_count": 5,
   "metadata": {},
   "outputs": [],
   "source": [
    "data = [\"The dataset should be put here.\"]\n",
    "\n",
    "def tagIt ():\n",
    "\ttry :\n",
    "\t\tfor item in data:\n",
    "\t\t\ttokenized = nltk.word_tokenize (item)\n",
    "\t\t\ttagged = nltk.pos_tag (tokenized)\n",
    "\t\t\tprint (tagged)\n",
    "\n",
    "\texcept Exception:\n",
    "\t\tprint (\"Sorry.. exception occurred\")"
   ]
  },
  {
   "cell_type": "code",
   "execution_count": 6,
   "metadata": {},
   "outputs": [
    {
     "name": "stdout",
     "output_type": "stream",
     "text": [
      "[('The', 'DT'), ('dataset', 'NN'), ('should', 'MD'), ('be', 'VB'), ('put', 'VBN'), ('here', 'RB'), ('.', '.')]\n"
     ]
    }
   ],
   "source": [
    "tagIt ()"
   ]
  },
  {
   "cell_type": "code",
   "execution_count": null,
   "metadata": {
    "collapsed": true
   },
   "outputs": [],
   "source": []
  }
 ],
 "metadata": {
  "kernelspec": {
   "display_name": "Python 3",
   "language": "python",
   "name": "python3"
  },
  "language_info": {
   "codemirror_mode": {
    "name": "ipython",
    "version": 3
   },
   "file_extension": ".py",
   "mimetype": "text/x-python",
   "name": "python",
   "nbconvert_exporter": "python",
   "pygments_lexer": "ipython3",
   "version": "3.6.3"
  }
 },
 "nbformat": 4,
 "nbformat_minor": 2
}
